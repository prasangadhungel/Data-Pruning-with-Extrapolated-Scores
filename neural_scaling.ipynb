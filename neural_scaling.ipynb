{
  "nbformat": 4,
  "nbformat_minor": 0,
  "metadata": {
    "colab": {
      "provenance": [],
      "gpuType": "T4"
    },
    "kernelspec": {
      "name": "python3",
      "display_name": "Python 3"
    },
    "language_info": {
      "name": "python"
    },
    "accelerator": "GPU"
  },
  "cells": [
    {
      "cell_type": "code",
      "source": [
        "from google.colab import drive\n",
        "drive.mount('/content/drive')"
      ],
      "metadata": {
        "colab": {
          "base_uri": "https://localhost:8080/"
        },
        "id": "k4tRk_xmL2O_",
        "outputId": "f67844fa-4491-4f53-f4f3-368ed80716c0"
      },
      "execution_count": 2,
      "outputs": [
        {
          "output_type": "stream",
          "name": "stdout",
          "text": [
            "Mounted at /content/drive\n"
          ]
        }
      ]
    },
    {
      "cell_type": "code",
      "source": [
        "!pip install -qU kmeans_pytorch timm"
      ],
      "metadata": {
        "colab": {
          "base_uri": "https://localhost:8080/"
        },
        "id": "wBBjvVsqMlqP",
        "outputId": "7acb7426-bc03-4fc9-8ca7-2a72e398d0b8"
      },
      "execution_count": 1,
      "outputs": [
        {
          "output_type": "stream",
          "name": "stdout",
          "text": [
            "\u001b[2K     \u001b[90m━━━━━━━━━━━━━━━━━━━━━━━━━━━━━━━━━━━━━━━━\u001b[0m \u001b[32m2.2/2.2 MB\u001b[0m \u001b[31m10.5 MB/s\u001b[0m eta \u001b[36m0:00:00\u001b[0m\n",
            "\u001b[?25h"
          ]
        }
      ]
    },
    {
      "cell_type": "code",
      "source": [
        "%cd /content/drive/MyDrive/GR"
      ],
      "metadata": {
        "colab": {
          "base_uri": "https://localhost:8080/"
        },
        "id": "1lylYIDfMsu0",
        "outputId": "b0d1e311-65c3-486b-ca26-694730f257b2"
      },
      "execution_count": 3,
      "outputs": [
        {
          "output_type": "stream",
          "name": "stdout",
          "text": [
            "/content/drive/MyDrive/GR\n"
          ]
        }
      ]
    },
    {
      "cell_type": "code",
      "execution_count": 4,
      "metadata": {
        "id": "fAq6eL2AMGXf"
      },
      "outputs": [],
      "source": [
        "import torch\n",
        "from torchvision import datasets\n",
        "from torch.utils.data import Dataset\n",
        "from functools import partial\n",
        "import torch.nn as nn\n",
        "from torch.utils.data import DataLoader\n",
        "from torchvision import transforms\n",
        "from torchvision import models as torchvision_models\n",
        "import os\n",
        "import shutil\n",
        "from pathlib import Path\n",
        "from torch.cuda.amp import autocast\n",
        "from tqdm import tqdm\n",
        "import matplotlib.pyplot as plt\n",
        "import seaborn as sns\n",
        "from kmeans_pytorch import kmeans\n",
        "\n",
        "import logging\n",
        "import torch.nn.functional as F\n",
        "import torch.distributed as dist\n",
        "\n",
        "import numpy as np\n",
        "import torchvision\n",
        "from math import sqrt\n",
        "\n",
        "import timm.models.vision_transformer\n",
        "from timm.models.layers import DropPath, to_2tuple, trunc_normal_"
      ]
    },
    {
      "cell_type": "code",
      "source": [
        "device = torch.device(\"cuda\" if torch.cuda.is_available() else \"cpu\")\n",
        "torchvision_archs = sorted(name for name in torchvision_models.__dict__\n",
        "                           if name.islower() and not name.startswith(\"__\")\n",
        "                           and callable(torchvision_models.__dict__[name]))\n",
        "\n",
        "print(device)"
      ],
      "metadata": {
        "colab": {
          "base_uri": "https://localhost:8080/"
        },
        "id": "j-yOcaj7MdLm",
        "outputId": "9230ba01-0411-44fe-819b-eb6e2091e2d7"
      },
      "execution_count": 5,
      "outputs": [
        {
          "output_type": "stream",
          "name": "stdout",
          "text": [
            "cuda\n"
          ]
        }
      ]
    },
    {
      "cell_type": "code",
      "source": [
        "class ReturnIndexDataset(datasets.ImageFolder):\n",
        "    def __getitem__(self, idx):\n",
        "        img, lab = super(ReturnIndexDataset, self).__getitem__(idx)\n",
        "        # path = super(ReturnIndexDataset, self).samples[idx]\n",
        "        return idx, img, lab, idx"
      ],
      "metadata": {
        "id": "4OD5eTzwM2O0"
      },
      "execution_count": 6,
      "outputs": []
    },
    {
      "cell_type": "code",
      "source": [
        "def find_class_means(X, labels, num_clusters):\n",
        "    dim = X[0].shape[0]\n",
        "    labels_sum = {i: torch.zeros(dim) for i in range(num_clusters)}\n",
        "    labels_count = {i: 0 for i in range(num_clusters)}\n",
        "    for i in range(len(X)):\n",
        "        tensor = X[i]\n",
        "        label = int(labels[i].item())\n",
        "        labels_sum[label] += tensor\n",
        "        labels_count[label] += 1\n",
        "    labels_mean_tensor = torch.zeros((num_clusters, dim))\n",
        "    for i in range(num_clusters):\n",
        "        labels_mean_tensor[i] = labels_sum[i] / labels_count[i]\n",
        "    return labels, labels_mean_tensor\n"
      ],
      "metadata": {
        "id": "be0PCHULM5jx"
      },
      "execution_count": 7,
      "outputs": []
    },
    {
      "cell_type": "code",
      "source": [
        "class CustomDataset(Dataset):\n",
        "    def __init__(self, data):\n",
        "        self.data = data\n",
        "\n",
        "    def __len__(self):\n",
        "        return len(self.data)\n",
        "\n",
        "    def __getitem__(self, idx):\n",
        "        return self.data[idx]"
      ],
      "metadata": {
        "id": "ZYya60OJNDzA"
      },
      "execution_count": 8,
      "outputs": []
    },
    {
      "cell_type": "code",
      "source": [
        "def find_desired_samples(reps, indices, labels, base_dataset, target_dataset, cluster_centers, cluster_ids_x, quantile):\n",
        "    res_values = []\n",
        "    res_indices = []\n",
        "    res_class_labels = []\n",
        "    res_cluster_labels = []\n",
        "\n",
        "    batch_size = 16\n",
        "    num_clusters = len(cluster_centers)\n",
        "    reps_dataset = CustomDataset(reps.detach())\n",
        "    reps_dataloader = DataLoader(reps_dataset, batch_size=batch_size, shuffle=False)\n",
        "\n",
        "    indices = torch.squeeze(indices)\n",
        "    labels = torch.squeeze(labels)\n",
        "    cluster_ids_x = torch.squeeze(cluster_ids_x)\n",
        "    cluster_centers = cluster_centers.to(device)\n",
        "\n",
        "    # calculate norm\n",
        "    i = 0\n",
        "    for tensor in tqdm(reps_dataloader, desc='Calculating norms'):\n",
        "        tensor = tensor.to(device)\n",
        "        norm_tensor = torch.linalg.norm(tensor.unsqueeze(dim=1) - cluster_centers.unsqueeze(dim=0), dim=2).detach()\n",
        "        norm_tensor, norm_tensor_indecies = torch.sort(norm_tensor, dim=1)\n",
        "        res_values += (norm_tensor[:, 0] - norm_tensor[:, 1] - norm_tensor[:, 2]).tolist()\n",
        "        res_indices += (indices[batch_size * i: (i + 1) * batch_size]).tolist()\n",
        "        res_class_labels += (labels[batch_size * i: (i + 1) * batch_size]).tolist()\n",
        "        res_cluster_labels += norm_tensor_indecies[:, 0].tolist()\n",
        "        i += 1\n",
        "\n",
        "    # reordering samples and finding quantiles baesd on each class\n",
        "    cluster_scores = {k: [res_values[i] for i in range(len(res_values)) if int(res_cluster_labels[i]) == k] for k in\n",
        "                        range(len(cluster_centers))}\n",
        "\n",
        "    # save representation's distribution histogram\n",
        "    save_histograms(cluster_scores)\n",
        "\n",
        "    quantiles = {k: torch.quantile(torch.tensor(cluster_scores[k]), q=quantile) for k in\n",
        "                    range(num_clusters) if len(cluster_scores[k]) != 0}\n",
        "    score_dicts = {int(res_indices[i]): (res_values[i], int(res_class_labels[i]), int(res_cluster_labels[i])) for i\n",
        "                    in\n",
        "                    range(len(res_values))}\n",
        "    results_based_on_class = {i: [] for i in range(len(target_dataset.classes))}\n",
        "\n",
        "    # finding images which are in the quantile period\n",
        "    for k, v in tqdm(score_dicts.items(), desc='Finding images in quntile'):\n",
        "        if v[0] > quantiles[v[2]].item():\n",
        "            results_based_on_class[v[1]].append(k)\n",
        "\n",
        "    # find path of desired samples\n",
        "    img_paths = {}\n",
        "    for idx, img, label, ind in tqdm(target_dataset, desc='Gathering paths of desired samples'):\n",
        "        image_path = target_dataset.samples[idx][0]\n",
        "        if ind in results_based_on_class[label]:\n",
        "            try:\n",
        "                img_paths[label].append(image_path)\n",
        "            except KeyError:\n",
        "                img_paths[label] = [image_path]\n",
        "\n",
        "    return img_paths\n",
        "\n",
        "\n",
        "def save_histograms(cluster_scores):\n",
        "    histograms_path = 'histograms'\n",
        "    if os.path.exists(histograms_path):\n",
        "        shutil.rmtree(histograms_path)\n",
        "    os.mkdir(histograms_path)\n",
        "\n",
        "    for cls, scores in cluster_scores.items():\n",
        "        sns.distplot(scores)\n",
        "        plt.title('class :' + str(cls))\n",
        "        plt.savefig(os.path.join(histograms_path, 'class ' + str(cls) + '.jpg'))\n",
        "        plt.clf()\n",
        "\n",
        "\n",
        "def reverse_normalization(images):\n",
        "    mean = torch.tensor([0.485, 0.456, 0.406])\n",
        "    std = torch.tensor([0.229, 0.224, 0.225])\n",
        "    un_normalize = transforms.Normalize((-mean / std).tolist(), (1.0 / std).tolist())\n",
        "    return un_normalize(images)\n",
        "\n",
        "\n",
        "def save_outputs(dst_path, dataset, farthest_samples_paths):\n",
        "    try:\n",
        "        shutil.rmtree(dst_path)\n",
        "    except FileNotFoundError:\n",
        "        pass\n",
        "    Path(dst_path).mkdir(parents=True, exist_ok=True)\n",
        "    for cls in dataset.classes:\n",
        "        Path(os.path.join(dst_path, str(cls))).mkdir(parents=True, exist_ok=True)\n",
        "    for cls, paths in farthest_samples_paths.items():\n",
        "        for i, path in enumerate(paths):\n",
        "            shutil.copy(path, os.path.join(dst_path, dataset.classes[cls]))\n",
        "\n",
        "\n",
        "def generate_representations(batch_size, model, dataloader, dataset, desc=''):\n",
        "    model.eval()\n",
        "\n",
        "    reps = torch.zeros((len(dataloader) * batch_size, 1000))\n",
        "    indices = torch.zeros((len(dataloader) * batch_size, 1))\n",
        "    labels = torch.zeros((len(dataloader) * batch_size, 1))\n",
        "    i = 0\n",
        "    for idx, tensor, label, index in tqdm(dataloader, desc=desc):\n",
        "        tensor = tensor.to(device)\n",
        "        with autocast(enabled=True):\n",
        "            feats = model(tensor)\n",
        "        reps[i * batch_size: min((i + 1) * batch_size, len(dataset))] = feats.detach().cpu()\n",
        "        labels[i * batch_size: min((i + 1) * batch_size, len(dataset))] = label[:, None]\n",
        "        indices[i * batch_size: min((i + 1) * batch_size, len(dataset))] = index[:, None]\n",
        "        i += 1\n",
        "    return reps, indices, labels"
      ],
      "metadata": {
        "id": "ysOZrLNWNmI1"
      },
      "execution_count": 24,
      "outputs": []
    },
    {
      "cell_type": "code",
      "source": [
        "# pretrained resnet-18 model\n",
        "model = torch.hub.load('facebookresearch/swav:main', 'resnet50', pretrained=True)\n",
        "model = model.to(device)"
      ],
      "metadata": {
        "colab": {
          "base_uri": "https://localhost:8080/"
        },
        "id": "WXgYaX4pOnVb",
        "outputId": "5ab82c36-e413-4f65-cbab-5b2bbfcded3e"
      },
      "execution_count": 10,
      "outputs": [
        {
          "output_type": "stream",
          "name": "stderr",
          "text": [
            "Downloading: \"https://github.com/facebookresearch/swav/zipball/main\" to /root/.cache/torch/hub/main.zip\n",
            "/usr/local/lib/python3.10/dist-packages/torchvision/models/_utils.py:208: UserWarning: The parameter 'pretrained' is deprecated since 0.13 and may be removed in the future, please use 'weights' instead.\n",
            "  warnings.warn(\n",
            "/usr/local/lib/python3.10/dist-packages/torchvision/models/_utils.py:223: UserWarning: Arguments other than a weight enum or `None` for 'weights' are deprecated since 0.13 and may be removed in the future. The current behavior is equivalent to passing `weights=None`.\n",
            "  warnings.warn(msg)\n",
            "Downloading: \"https://dl.fbaipublicfiles.com/deepcluster/swav_800ep_pretrain.pth.tar\" to /root/.cache/torch/hub/checkpoints/swav_800ep_pretrain.pth.tar\n",
            "100%|██████████| 108M/108M [00:00<00:00, 274MB/s]\n"
          ]
        }
      ]
    },
    {
      "cell_type": "code",
      "source": [
        "# cifar_dataset = torchvision.datasets.CIFAR10(root='./data', train=True, download=True)\n",
        "\n",
        "# # Create directories for each class\n",
        "# classes = cifar_dataset.classes\n",
        "# data_dir = './cifar10_data'\n",
        "\n",
        "# for cls in classes:\n",
        "#     os.makedirs(os.path.join(data_dir, cls), exist_ok=True)\n",
        "\n",
        "# import torchvision.transforms.functional as TF\n",
        "\n",
        "# # Move images to respective class directories\n",
        "# for idx, (image, label) in enumerate(cifar_dataset):\n",
        "#     class_dir = os.path.join(data_dir, classes[label])\n",
        "#     image_path = os.path.join(class_dir, f\"img_{idx}.jpg\")\n",
        "#     tensor_image = TF.to_tensor(image)  # Convert PIL image to tensor\n",
        "#     torchvision.utils.save_image(tensor_image, image_path)\n",
        "\n",
        "# print(\"CIFAR10 dataset downloaded and organized successfully.\")"
      ],
      "metadata": {
        "colab": {
          "base_uri": "https://localhost:8080/"
        },
        "id": "t_nwrh30PG8s",
        "outputId": "9816f36e-b0d0-4cb0-ceb0-1d7b3960e157"
      },
      "execution_count": 11,
      "outputs": [
        {
          "output_type": "stream",
          "name": "stdout",
          "text": [
            "Downloading https://www.cs.toronto.edu/~kriz/cifar-10-python.tar.gz to ./data/cifar-10-python.tar.gz\n"
          ]
        },
        {
          "output_type": "stream",
          "name": "stderr",
          "text": [
            "100%|██████████| 170498071/170498071 [00:03<00:00, 48468316.91it/s]\n"
          ]
        },
        {
          "output_type": "stream",
          "name": "stdout",
          "text": [
            "Extracting ./data/cifar-10-python.tar.gz to ./data\n",
            "CIFAR10 dataset downloaded and organized successfully.\n"
          ]
        }
      ]
    },
    {
      "cell_type": "code",
      "source": [
        "def get_data(data_path):\n",
        "    transform = transforms.Compose([\n",
        "        transforms.Resize(256, interpolation=3),\n",
        "        transforms.CenterCrop(224),\n",
        "        transforms.ToTensor(),\n",
        "        transforms.Normalize((0.485, 0.456, 0.406), (0.229, 0.224, 0.225)),\n",
        "    ])\n",
        "    dataset = ReturnIndexDataset(data_path, transform=transform)\n",
        "    dataloader = DataLoader(\n",
        "        dataset,\n",
        "        batch_size=16,\n",
        "        num_workers=2,\n",
        "        pin_memory=True,\n",
        "        drop_last=False,\n",
        "        shuffle=True\n",
        "    )\n",
        "    return dataloader, dataset"
      ],
      "metadata": {
        "id": "OwjivhiBPKCZ"
      },
      "execution_count": 12,
      "outputs": []
    },
    {
      "cell_type": "code",
      "source": [
        "dataloader, dataset = get_data(\"/content/drive/MyDrive/GR/cifar10_data/\")"
      ],
      "metadata": {
        "id": "Sd76Lq1eR2Cn"
      },
      "execution_count": 13,
      "outputs": []
    },
    {
      "cell_type": "code",
      "source": [
        "reps, indices, labels = generate_representations(\n",
        "    batch_size=16,\n",
        "    model=model,\n",
        "    dataloader=dataloader,\n",
        "    dataset=dataset,\n",
        "    desc='Generating representations'\n",
        ")"
      ],
      "metadata": {
        "colab": {
          "base_uri": "https://localhost:8080/"
        },
        "id": "re3iQViBSBJe",
        "outputId": "747f3d7d-a3ca-469d-9a02-60331169bc33"
      },
      "execution_count": 14,
      "outputs": [
        {
          "output_type": "stream",
          "name": "stderr",
          "text": [
            "\rGenerating representations:   0%|          | 0/3125 [00:00<?, ?it/s]/usr/lib/python3.10/multiprocessing/popen_fork.py:66: RuntimeWarning: os.fork() was called. os.fork() is incompatible with multithreaded code, and JAX is multithreaded, so this will likely lead to a deadlock.\n",
            "  self.pid = os.fork()\n",
            "Generating representations: 100%|██████████| 3125/3125 [05:46<00:00,  9.02it/s]\n"
          ]
        }
      ]
    },
    {
      "cell_type": "code",
      "source": [
        "data_size, dims = reps.shape\n",
        "num_clusters = len(dataset.classes)\n",
        "\n",
        "cluster_ids_x, cluster_centers = kmeans(X=reps,\n",
        "                                        num_clusters=num_clusters,\n",
        "                                        distance='euclidean',\n",
        "                                        device=device,\n",
        "                                        tol=1e-5)"
      ],
      "metadata": {
        "colab": {
          "base_uri": "https://localhost:8080/"
        },
        "id": "TbF-RhmJNisN",
        "outputId": "bf6f810e-27b0-4cb2-dc04-c08a58a97f53"
      },
      "execution_count": 15,
      "outputs": [
        {
          "output_type": "stream",
          "name": "stdout",
          "text": [
            "running k-means on cuda..\n"
          ]
        },
        {
          "output_type": "stream",
          "name": "stderr",
          "text": [
            "[running kmeans]: 83it [04:16,  3.09s/it, center_shift=0.000005, iteration=83, tol=0.000010]\n"
          ]
        }
      ]
    },
    {
      "cell_type": "code",
      "source": [
        "farthest_samples_paths = find_desired_samples(reps=reps,\n",
        "                                                indices=indices,\n",
        "                                                labels=labels,\n",
        "                                                base_dataset=dataset,\n",
        "                                                target_dataset=dataset,\n",
        "                                                cluster_centers=cluster_centers,\n",
        "                                                cluster_ids_x=cluster_ids_x,\n",
        "                                                quantile=0.9\n",
        "                                              )"
      ],
      "metadata": {
        "colab": {
          "base_uri": "https://localhost:8080/",
          "height": 1000
        },
        "id": "7d-p7fx6NZa3",
        "outputId": "87c27541-8e4d-461b-8b34-1d6393799ade"
      },
      "execution_count": 18,
      "outputs": [
        {
          "output_type": "stream",
          "name": "stderr",
          "text": [
            "Calculating norms: 100%|██████████| 3125/3125 [00:01<00:00, 1997.71it/s]\n",
            "<ipython-input-17-146c3334de1d>:69: UserWarning: \n",
            "\n",
            "`distplot` is a deprecated function and will be removed in seaborn v0.14.0.\n",
            "\n",
            "Please adapt your code to use either `displot` (a figure-level function with\n",
            "similar flexibility) or `histplot` (an axes-level function for histograms).\n",
            "\n",
            "For a guide to updating your code to use the new functions, please see\n",
            "https://gist.github.com/mwaskom/de44147ed2974457ad6372750bbe5751\n",
            "\n",
            "  sns.distplot(scores)\n",
            "<ipython-input-17-146c3334de1d>:69: UserWarning: \n",
            "\n",
            "`distplot` is a deprecated function and will be removed in seaborn v0.14.0.\n",
            "\n",
            "Please adapt your code to use either `displot` (a figure-level function with\n",
            "similar flexibility) or `histplot` (an axes-level function for histograms).\n",
            "\n",
            "For a guide to updating your code to use the new functions, please see\n",
            "https://gist.github.com/mwaskom/de44147ed2974457ad6372750bbe5751\n",
            "\n",
            "  sns.distplot(scores)\n",
            "<ipython-input-17-146c3334de1d>:69: UserWarning: \n",
            "\n",
            "`distplot` is a deprecated function and will be removed in seaborn v0.14.0.\n",
            "\n",
            "Please adapt your code to use either `displot` (a figure-level function with\n",
            "similar flexibility) or `histplot` (an axes-level function for histograms).\n",
            "\n",
            "For a guide to updating your code to use the new functions, please see\n",
            "https://gist.github.com/mwaskom/de44147ed2974457ad6372750bbe5751\n",
            "\n",
            "  sns.distplot(scores)\n",
            "<ipython-input-17-146c3334de1d>:69: UserWarning: \n",
            "\n",
            "`distplot` is a deprecated function and will be removed in seaborn v0.14.0.\n",
            "\n",
            "Please adapt your code to use either `displot` (a figure-level function with\n",
            "similar flexibility) or `histplot` (an axes-level function for histograms).\n",
            "\n",
            "For a guide to updating your code to use the new functions, please see\n",
            "https://gist.github.com/mwaskom/de44147ed2974457ad6372750bbe5751\n",
            "\n",
            "  sns.distplot(scores)\n",
            "<ipython-input-17-146c3334de1d>:69: UserWarning: \n",
            "\n",
            "`distplot` is a deprecated function and will be removed in seaborn v0.14.0.\n",
            "\n",
            "Please adapt your code to use either `displot` (a figure-level function with\n",
            "similar flexibility) or `histplot` (an axes-level function for histograms).\n",
            "\n",
            "For a guide to updating your code to use the new functions, please see\n",
            "https://gist.github.com/mwaskom/de44147ed2974457ad6372750bbe5751\n",
            "\n",
            "  sns.distplot(scores)\n",
            "<ipython-input-17-146c3334de1d>:69: UserWarning: \n",
            "\n",
            "`distplot` is a deprecated function and will be removed in seaborn v0.14.0.\n",
            "\n",
            "Please adapt your code to use either `displot` (a figure-level function with\n",
            "similar flexibility) or `histplot` (an axes-level function for histograms).\n",
            "\n",
            "For a guide to updating your code to use the new functions, please see\n",
            "https://gist.github.com/mwaskom/de44147ed2974457ad6372750bbe5751\n",
            "\n",
            "  sns.distplot(scores)\n",
            "<ipython-input-17-146c3334de1d>:69: UserWarning: \n",
            "\n",
            "`distplot` is a deprecated function and will be removed in seaborn v0.14.0.\n",
            "\n",
            "Please adapt your code to use either `displot` (a figure-level function with\n",
            "similar flexibility) or `histplot` (an axes-level function for histograms).\n",
            "\n",
            "For a guide to updating your code to use the new functions, please see\n",
            "https://gist.github.com/mwaskom/de44147ed2974457ad6372750bbe5751\n",
            "\n",
            "  sns.distplot(scores)\n",
            "<ipython-input-17-146c3334de1d>:69: UserWarning: \n",
            "\n",
            "`distplot` is a deprecated function and will be removed in seaborn v0.14.0.\n",
            "\n",
            "Please adapt your code to use either `displot` (a figure-level function with\n",
            "similar flexibility) or `histplot` (an axes-level function for histograms).\n",
            "\n",
            "For a guide to updating your code to use the new functions, please see\n",
            "https://gist.github.com/mwaskom/de44147ed2974457ad6372750bbe5751\n",
            "\n",
            "  sns.distplot(scores)\n",
            "<ipython-input-17-146c3334de1d>:69: UserWarning: \n",
            "\n",
            "`distplot` is a deprecated function and will be removed in seaborn v0.14.0.\n",
            "\n",
            "Please adapt your code to use either `displot` (a figure-level function with\n",
            "similar flexibility) or `histplot` (an axes-level function for histograms).\n",
            "\n",
            "For a guide to updating your code to use the new functions, please see\n",
            "https://gist.github.com/mwaskom/de44147ed2974457ad6372750bbe5751\n",
            "\n",
            "  sns.distplot(scores)\n",
            "<ipython-input-17-146c3334de1d>:69: UserWarning: \n",
            "\n",
            "`distplot` is a deprecated function and will be removed in seaborn v0.14.0.\n",
            "\n",
            "Please adapt your code to use either `displot` (a figure-level function with\n",
            "similar flexibility) or `histplot` (an axes-level function for histograms).\n",
            "\n",
            "For a guide to updating your code to use the new functions, please see\n",
            "https://gist.github.com/mwaskom/de44147ed2974457ad6372750bbe5751\n",
            "\n",
            "  sns.distplot(scores)\n",
            "Finding images in quntile: 100%|██████████| 50000/50000 [00:00<00:00, 1102058.92it/s]\n",
            "Gathering paths of desired samples: 100%|██████████| 50000/50000 [04:07<00:00, 201.70it/s]\n"
          ]
        },
        {
          "output_type": "display_data",
          "data": {
            "text/plain": [
              "<Figure size 640x480 with 0 Axes>"
            ]
          },
          "metadata": {}
        }
      ]
    },
    {
      "cell_type": "code",
      "source": [
        "save_outputs(dst_path='/content/drive/MyDrive/GR/hard_samples_90/',\n",
        "                 dataset=dataset,\n",
        "                 farthest_samples_paths=farthest_samples_paths)"
      ],
      "metadata": {
        "id": "Bo5LU3VNahRW"
      },
      "execution_count": 19,
      "outputs": []
    },
    {
      "cell_type": "code",
      "source": [
        "!find cifar10_data -mindepth 1 -type d -exec sh -c 'echo -n \"{}: \"; ls -1 \"{}\" | wc -l' \\;"
      ],
      "metadata": {
        "colab": {
          "base_uri": "https://localhost:8080/"
        },
        "id": "10-GFaLATk6b",
        "outputId": "8d55635a-374d-421c-f5d3-97fe0a9289b6"
      },
      "execution_count": 20,
      "outputs": [
        {
          "output_type": "stream",
          "name": "stdout",
          "text": [
            "cifar10_data/airplane: 5000\n",
            "cifar10_data/automobile: 5000\n",
            "cifar10_data/bird: 5000\n",
            "cifar10_data/cat: 5000\n",
            "cifar10_data/deer: 5000\n",
            "cifar10_data/dog: 5000\n",
            "cifar10_data/frog: 5000\n",
            "cifar10_data/horse: 5000\n",
            "cifar10_data/ship: 5000\n",
            "cifar10_data/truck: 5000\n"
          ]
        }
      ]
    },
    {
      "cell_type": "code",
      "source": [
        "!find hard_samples_90 -mindepth 1 -type d -exec sh -c 'echo -n \"{}: \"; ls -1 \"{}\" | wc -l' \\;"
      ],
      "metadata": {
        "colab": {
          "base_uri": "https://localhost:8080/"
        },
        "id": "KnM2xH8UUwq4",
        "outputId": "aaf020fa-ec0f-4b9e-9537-57d4d7899a48"
      },
      "execution_count": 21,
      "outputs": [
        {
          "output_type": "stream",
          "name": "stdout",
          "text": [
            "hard_samples/airplane: 480\n",
            "hard_samples/automobile: 439\n",
            "hard_samples/bird: 475\n",
            "hard_samples/cat: 529\n",
            "hard_samples/deer: 705\n",
            "hard_samples/dog: 429\n",
            "hard_samples/frog: 355\n",
            "hard_samples/horse: 560\n",
            "hard_samples/ship: 502\n",
            "hard_samples/truck: 529\n"
          ]
        }
      ]
    },
    {
      "cell_type": "markdown",
      "source": [
        "### Quantile 0.5"
      ],
      "metadata": {
        "id": "dzRW69_9VZi6"
      }
    },
    {
      "cell_type": "code",
      "source": [
        "farthest_samples_paths = find_desired_samples(reps=reps,\n",
        "                                                indices=indices,\n",
        "                                                labels=labels,\n",
        "                                                base_dataset=dataset,\n",
        "                                                target_dataset=dataset,\n",
        "                                                cluster_centers=cluster_centers,\n",
        "                                                cluster_ids_x=cluster_ids_x,\n",
        "                                                quantile=0.5\n",
        "                                              )\n",
        "\n",
        "save_outputs(dst_path='/content/drive/MyDrive/GR/hard_samples_50/',\n",
        "                 dataset=dataset,\n",
        "                 farthest_samples_paths=farthest_samples_paths)"
      ],
      "metadata": {
        "colab": {
          "base_uri": "https://localhost:8080/"
        },
        "id": "9TWXYi6RVYms",
        "outputId": "9586f357-bbb0-46d2-b3fa-2ae0bc485e02"
      },
      "execution_count": null,
      "outputs": [
        {
          "output_type": "stream",
          "name": "stderr",
          "text": [
            "Calculating norms: 100%|██████████| 3125/3125 [00:01<00:00, 1797.03it/s]\n",
            "<ipython-input-24-5bf40fff5090>:68: UserWarning: \n",
            "\n",
            "`distplot` is a deprecated function and will be removed in seaborn v0.14.0.\n",
            "\n",
            "Please adapt your code to use either `displot` (a figure-level function with\n",
            "similar flexibility) or `histplot` (an axes-level function for histograms).\n",
            "\n",
            "For a guide to updating your code to use the new functions, please see\n",
            "https://gist.github.com/mwaskom/de44147ed2974457ad6372750bbe5751\n",
            "\n",
            "  sns.distplot(scores)\n",
            "<ipython-input-24-5bf40fff5090>:68: UserWarning: \n",
            "\n",
            "`distplot` is a deprecated function and will be removed in seaborn v0.14.0.\n",
            "\n",
            "Please adapt your code to use either `displot` (a figure-level function with\n",
            "similar flexibility) or `histplot` (an axes-level function for histograms).\n",
            "\n",
            "For a guide to updating your code to use the new functions, please see\n",
            "https://gist.github.com/mwaskom/de44147ed2974457ad6372750bbe5751\n",
            "\n",
            "  sns.distplot(scores)\n",
            "<ipython-input-24-5bf40fff5090>:68: UserWarning: \n",
            "\n",
            "`distplot` is a deprecated function and will be removed in seaborn v0.14.0.\n",
            "\n",
            "Please adapt your code to use either `displot` (a figure-level function with\n",
            "similar flexibility) or `histplot` (an axes-level function for histograms).\n",
            "\n",
            "For a guide to updating your code to use the new functions, please see\n",
            "https://gist.github.com/mwaskom/de44147ed2974457ad6372750bbe5751\n",
            "\n",
            "  sns.distplot(scores)\n",
            "<ipython-input-24-5bf40fff5090>:68: UserWarning: \n",
            "\n",
            "`distplot` is a deprecated function and will be removed in seaborn v0.14.0.\n",
            "\n",
            "Please adapt your code to use either `displot` (a figure-level function with\n",
            "similar flexibility) or `histplot` (an axes-level function for histograms).\n",
            "\n",
            "For a guide to updating your code to use the new functions, please see\n",
            "https://gist.github.com/mwaskom/de44147ed2974457ad6372750bbe5751\n",
            "\n",
            "  sns.distplot(scores)\n",
            "<ipython-input-24-5bf40fff5090>:68: UserWarning: \n",
            "\n",
            "`distplot` is a deprecated function and will be removed in seaborn v0.14.0.\n",
            "\n",
            "Please adapt your code to use either `displot` (a figure-level function with\n",
            "similar flexibility) or `histplot` (an axes-level function for histograms).\n",
            "\n",
            "For a guide to updating your code to use the new functions, please see\n",
            "https://gist.github.com/mwaskom/de44147ed2974457ad6372750bbe5751\n",
            "\n",
            "  sns.distplot(scores)\n",
            "<ipython-input-24-5bf40fff5090>:68: UserWarning: \n",
            "\n",
            "`distplot` is a deprecated function and will be removed in seaborn v0.14.0.\n",
            "\n",
            "Please adapt your code to use either `displot` (a figure-level function with\n",
            "similar flexibility) or `histplot` (an axes-level function for histograms).\n",
            "\n",
            "For a guide to updating your code to use the new functions, please see\n",
            "https://gist.github.com/mwaskom/de44147ed2974457ad6372750bbe5751\n",
            "\n",
            "  sns.distplot(scores)\n",
            "<ipython-input-24-5bf40fff5090>:68: UserWarning: \n",
            "\n",
            "`distplot` is a deprecated function and will be removed in seaborn v0.14.0.\n",
            "\n",
            "Please adapt your code to use either `displot` (a figure-level function with\n",
            "similar flexibility) or `histplot` (an axes-level function for histograms).\n",
            "\n",
            "For a guide to updating your code to use the new functions, please see\n",
            "https://gist.github.com/mwaskom/de44147ed2974457ad6372750bbe5751\n",
            "\n",
            "  sns.distplot(scores)\n",
            "<ipython-input-24-5bf40fff5090>:68: UserWarning: \n",
            "\n",
            "`distplot` is a deprecated function and will be removed in seaborn v0.14.0.\n",
            "\n",
            "Please adapt your code to use either `displot` (a figure-level function with\n",
            "similar flexibility) or `histplot` (an axes-level function for histograms).\n",
            "\n",
            "For a guide to updating your code to use the new functions, please see\n",
            "https://gist.github.com/mwaskom/de44147ed2974457ad6372750bbe5751\n",
            "\n",
            "  sns.distplot(scores)\n",
            "<ipython-input-24-5bf40fff5090>:68: UserWarning: \n",
            "\n",
            "`distplot` is a deprecated function and will be removed in seaborn v0.14.0.\n",
            "\n",
            "Please adapt your code to use either `displot` (a figure-level function with\n",
            "similar flexibility) or `histplot` (an axes-level function for histograms).\n",
            "\n",
            "For a guide to updating your code to use the new functions, please see\n",
            "https://gist.github.com/mwaskom/de44147ed2974457ad6372750bbe5751\n",
            "\n",
            "  sns.distplot(scores)\n",
            "<ipython-input-24-5bf40fff5090>:68: UserWarning: \n",
            "\n",
            "`distplot` is a deprecated function and will be removed in seaborn v0.14.0.\n",
            "\n",
            "Please adapt your code to use either `displot` (a figure-level function with\n",
            "similar flexibility) or `histplot` (an axes-level function for histograms).\n",
            "\n",
            "For a guide to updating your code to use the new functions, please see\n",
            "https://gist.github.com/mwaskom/de44147ed2974457ad6372750bbe5751\n",
            "\n",
            "  sns.distplot(scores)\n",
            "Finding images in quntile: 100%|██████████| 50000/50000 [00:00<00:00, 947355.77it/s]\n",
            "Gathering paths of desired samples: 100%|██████████| 50000/50000 [04:10<00:00, 199.62it/s]\n"
          ]
        }
      ]
    },
    {
      "cell_type": "code",
      "source": [
        "!find hard_samples_50 -mindepth 1 -type d -exec sh -c 'echo -n \"{}: \"; ls -1 \"{}\" | wc -l' \\;"
      ],
      "metadata": {
        "id": "xI3K0t-LV244"
      },
      "execution_count": null,
      "outputs": []
    },
    {
      "cell_type": "markdown",
      "source": [
        "### Quantile 0.1"
      ],
      "metadata": {
        "id": "2nCu_ngoV3tg"
      }
    },
    {
      "cell_type": "code",
      "source": [
        "farthest_samples_paths = find_desired_samples(reps=reps,\n",
        "                                                indices=indices,\n",
        "                                                labels=labels,\n",
        "                                                base_dataset=dataset,\n",
        "                                                target_dataset=dataset,\n",
        "                                                cluster_centers=cluster_centers,\n",
        "                                                cluster_ids_x=cluster_ids_x,\n",
        "                                                quantile=0.1\n",
        "                                              )\n",
        "\n",
        "save_outputs(dst_path='/content/drive/MyDrive/GR/hard_samples_10/',\n",
        "                 dataset=dataset,\n",
        "                 farthest_samples_paths=farthest_samples_paths)"
      ],
      "metadata": {
        "colab": {
          "base_uri": "https://localhost:8080/",
          "height": 1000
        },
        "id": "grXCdDniU21o",
        "outputId": "5f6415f2-5f09-4fde-9f01-b1123169a215"
      },
      "execution_count": 25,
      "outputs": [
        {
          "output_type": "stream",
          "name": "stderr",
          "text": [
            "Calculating norms: 100%|██████████| 3125/3125 [00:01<00:00, 2063.33it/s]\n",
            "<ipython-input-24-5bf40fff5090>:68: UserWarning: \n",
            "\n",
            "`distplot` is a deprecated function and will be removed in seaborn v0.14.0.\n",
            "\n",
            "Please adapt your code to use either `displot` (a figure-level function with\n",
            "similar flexibility) or `histplot` (an axes-level function for histograms).\n",
            "\n",
            "For a guide to updating your code to use the new functions, please see\n",
            "https://gist.github.com/mwaskom/de44147ed2974457ad6372750bbe5751\n",
            "\n",
            "  sns.distplot(scores)\n",
            "<ipython-input-24-5bf40fff5090>:68: UserWarning: \n",
            "\n",
            "`distplot` is a deprecated function and will be removed in seaborn v0.14.0.\n",
            "\n",
            "Please adapt your code to use either `displot` (a figure-level function with\n",
            "similar flexibility) or `histplot` (an axes-level function for histograms).\n",
            "\n",
            "For a guide to updating your code to use the new functions, please see\n",
            "https://gist.github.com/mwaskom/de44147ed2974457ad6372750bbe5751\n",
            "\n",
            "  sns.distplot(scores)\n",
            "<ipython-input-24-5bf40fff5090>:68: UserWarning: \n",
            "\n",
            "`distplot` is a deprecated function and will be removed in seaborn v0.14.0.\n",
            "\n",
            "Please adapt your code to use either `displot` (a figure-level function with\n",
            "similar flexibility) or `histplot` (an axes-level function for histograms).\n",
            "\n",
            "For a guide to updating your code to use the new functions, please see\n",
            "https://gist.github.com/mwaskom/de44147ed2974457ad6372750bbe5751\n",
            "\n",
            "  sns.distplot(scores)\n",
            "<ipython-input-24-5bf40fff5090>:68: UserWarning: \n",
            "\n",
            "`distplot` is a deprecated function and will be removed in seaborn v0.14.0.\n",
            "\n",
            "Please adapt your code to use either `displot` (a figure-level function with\n",
            "similar flexibility) or `histplot` (an axes-level function for histograms).\n",
            "\n",
            "For a guide to updating your code to use the new functions, please see\n",
            "https://gist.github.com/mwaskom/de44147ed2974457ad6372750bbe5751\n",
            "\n",
            "  sns.distplot(scores)\n",
            "<ipython-input-24-5bf40fff5090>:68: UserWarning: \n",
            "\n",
            "`distplot` is a deprecated function and will be removed in seaborn v0.14.0.\n",
            "\n",
            "Please adapt your code to use either `displot` (a figure-level function with\n",
            "similar flexibility) or `histplot` (an axes-level function for histograms).\n",
            "\n",
            "For a guide to updating your code to use the new functions, please see\n",
            "https://gist.github.com/mwaskom/de44147ed2974457ad6372750bbe5751\n",
            "\n",
            "  sns.distplot(scores)\n",
            "<ipython-input-24-5bf40fff5090>:68: UserWarning: \n",
            "\n",
            "`distplot` is a deprecated function and will be removed in seaborn v0.14.0.\n",
            "\n",
            "Please adapt your code to use either `displot` (a figure-level function with\n",
            "similar flexibility) or `histplot` (an axes-level function for histograms).\n",
            "\n",
            "For a guide to updating your code to use the new functions, please see\n",
            "https://gist.github.com/mwaskom/de44147ed2974457ad6372750bbe5751\n",
            "\n",
            "  sns.distplot(scores)\n",
            "<ipython-input-24-5bf40fff5090>:68: UserWarning: \n",
            "\n",
            "`distplot` is a deprecated function and will be removed in seaborn v0.14.0.\n",
            "\n",
            "Please adapt your code to use either `displot` (a figure-level function with\n",
            "similar flexibility) or `histplot` (an axes-level function for histograms).\n",
            "\n",
            "For a guide to updating your code to use the new functions, please see\n",
            "https://gist.github.com/mwaskom/de44147ed2974457ad6372750bbe5751\n",
            "\n",
            "  sns.distplot(scores)\n",
            "<ipython-input-24-5bf40fff5090>:68: UserWarning: \n",
            "\n",
            "`distplot` is a deprecated function and will be removed in seaborn v0.14.0.\n",
            "\n",
            "Please adapt your code to use either `displot` (a figure-level function with\n",
            "similar flexibility) or `histplot` (an axes-level function for histograms).\n",
            "\n",
            "For a guide to updating your code to use the new functions, please see\n",
            "https://gist.github.com/mwaskom/de44147ed2974457ad6372750bbe5751\n",
            "\n",
            "  sns.distplot(scores)\n",
            "<ipython-input-24-5bf40fff5090>:68: UserWarning: \n",
            "\n",
            "`distplot` is a deprecated function and will be removed in seaborn v0.14.0.\n",
            "\n",
            "Please adapt your code to use either `displot` (a figure-level function with\n",
            "similar flexibility) or `histplot` (an axes-level function for histograms).\n",
            "\n",
            "For a guide to updating your code to use the new functions, please see\n",
            "https://gist.github.com/mwaskom/de44147ed2974457ad6372750bbe5751\n",
            "\n",
            "  sns.distplot(scores)\n",
            "<ipython-input-24-5bf40fff5090>:68: UserWarning: \n",
            "\n",
            "`distplot` is a deprecated function and will be removed in seaborn v0.14.0.\n",
            "\n",
            "Please adapt your code to use either `displot` (a figure-level function with\n",
            "similar flexibility) or `histplot` (an axes-level function for histograms).\n",
            "\n",
            "For a guide to updating your code to use the new functions, please see\n",
            "https://gist.github.com/mwaskom/de44147ed2974457ad6372750bbe5751\n",
            "\n",
            "  sns.distplot(scores)\n",
            "Finding images in quntile: 100%|██████████| 50000/50000 [00:00<00:00, 614181.08it/s]\n",
            "Gathering paths of desired samples: 100%|██████████| 50000/50000 [04:13<00:00, 197.18it/s]\n"
          ]
        },
        {
          "output_type": "display_data",
          "data": {
            "text/plain": [
              "<Figure size 640x480 with 0 Axes>"
            ]
          },
          "metadata": {}
        }
      ]
    },
    {
      "cell_type": "code",
      "source": [
        "!find hard_samples_10 -mindepth 1 -type d -exec sh -c 'echo -n \"{}: \"; ls -1 \"{}\" | wc -l' \\;"
      ],
      "metadata": {
        "colab": {
          "base_uri": "https://localhost:8080/"
        },
        "id": "tgh7vP7wbeNI",
        "outputId": "b49c2bd2-f6be-412a-88c2-08f3c8ef2ae9"
      },
      "execution_count": 27,
      "outputs": [
        {
          "output_type": "stream",
          "name": "stdout",
          "text": [
            "hard_samples_10/airplane: 4498\n",
            "hard_samples_10/automobile: 4459\n",
            "hard_samples_10/bird: 4608\n",
            "hard_samples_10/cat: 4481\n",
            "hard_samples_10/deer: 4783\n",
            "hard_samples_10/dog: 4456\n",
            "hard_samples_10/frog: 4212\n",
            "hard_samples_10/horse: 4506\n",
            "hard_samples_10/ship: 4493\n",
            "hard_samples_10/truck: 4501\n"
          ]
        }
      ]
    },
    {
      "cell_type": "code",
      "source": [],
      "metadata": {
        "id": "D3riMCXZbjdM"
      },
      "execution_count": null,
      "outputs": []
    }
  ]
}