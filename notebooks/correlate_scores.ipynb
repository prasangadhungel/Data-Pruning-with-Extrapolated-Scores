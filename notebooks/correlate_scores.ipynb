{
 "cells": [
  {
   "cell_type": "code",
   "execution_count": 1,
   "metadata": {},
   "outputs": [],
   "source": [
    "import json\n",
    "import numpy as np"
   ]
  },
  {
   "cell_type": "code",
   "execution_count": 17,
   "metadata": {},
   "outputs": [],
   "source": [
    "with open('/nfs/homedirs/dhp/unsupervised-data-pruning/dynamic_uncertainty_1.json') as f:\n",
    "    dynamic_uncertainty_score_1 = json.load(f)\n",
    "\n",
    "with open('/nfs/homedirs/dhp/unsupervised-data-pruning/dynamic_uncertainty_2.json') as f:\n",
    "    dynamic_uncertainty_score_2 = json.load(f)\n",
    "\n",
    "with open('/nfs/homedirs/dhp/unsupervised-data-pruning/forget_stats.json') as f:\n",
    "    forget_score = json.load(f)"
   ]
  },
  {
   "cell_type": "code",
   "execution_count": 18,
   "metadata": {},
   "outputs": [],
   "source": [
    "dynamic_uncertainty_score_1 = np.array(list(dynamic_uncertainty_score_1.values()))\n",
    "dynamic_uncertainty_score_2 = np.array(list(dynamic_uncertainty_score_2.values()))\n",
    "forget_score = np.array(list(forget_score.values()))"
   ]
  },
  {
   "cell_type": "code",
   "execution_count": 20,
   "metadata": {},
   "outputs": [
    {
     "data": {
      "text/plain": [
       "array([[1.        , 0.88440495],\n",
       "       [0.88440495, 1.        ]])"
      ]
     },
     "execution_count": 20,
     "metadata": {},
     "output_type": "execute_result"
    }
   ],
   "source": [
    "np.corrcoef(dynamic_uncertainty_score_1, dynamic_uncertainty_score_2)"
   ]
  },
  {
   "cell_type": "code",
   "execution_count": 22,
   "metadata": {},
   "outputs": [
    {
     "data": {
      "text/plain": [
       "array([[1.        , 0.75776887],\n",
       "       [0.75776887, 1.        ]])"
      ]
     },
     "execution_count": 22,
     "metadata": {},
     "output_type": "execute_result"
    }
   ],
   "source": [
    "np.corrcoef(dynamic_uncertainty_score_2, forget_score)"
   ]
  },
  {
   "cell_type": "code",
   "execution_count": null,
   "metadata": {},
   "outputs": [],
   "source": []
  }
 ],
 "metadata": {
  "kernelspec": {
   "display_name": "gr",
   "language": "python",
   "name": "python3"
  },
  "language_info": {
   "codemirror_mode": {
    "name": "ipython",
    "version": 3
   },
   "file_extension": ".py",
   "mimetype": "text/x-python",
   "name": "python",
   "nbconvert_exporter": "python",
   "pygments_lexer": "ipython3",
   "version": "3.11.9"
  }
 },
 "nbformat": 4,
 "nbformat_minor": 2
}
